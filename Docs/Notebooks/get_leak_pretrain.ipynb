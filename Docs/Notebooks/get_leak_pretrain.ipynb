{
 "cells": [
  {
   "cell_type": "code",
   "execution_count": 10,
   "metadata": {},
   "outputs": [],
   "source": [
    "import sys\n",
    "import pathlib\n",
    "import os\n",
    "# root_dir = str(pathlib.Path(__file__).resolve().parents[2])\n",
    "# sys.path.append(root_dir)\n",
    "os.chdir(\"/home/vanthinhto/my_thesis/Code/Github/KGGraph/\")"
   ]
  },
  {
   "cell_type": "code",
   "execution_count": 16,
   "metadata": {},
   "outputs": [],
   "source": [
    "with open(\"Data/cleanup/standsmi_test.txt\", 'r') as f:\n",
    "    test_data = [line.strip(\"\\r\\n\").split()[0] for line in f]\n",
    "with open(\"Data/cleanup/standsmi_chembl.txt\", 'r') as f:\n",
    "    twomil_pretrain_data = [line.strip(\"\\r\\n\").split()[0] for line in f]\n",
    "with open(\"Data/cleanup/standsmi_pubchem.txt\", \"r\") as f:\n",
    "    tenmil_pretrain_data = [line.strip(\"\\r\\n\").split()[0] for line in f]"
   ]
  },
  {
   "cell_type": "code",
   "execution_count": 19,
   "metadata": {},
   "outputs": [
    {
     "name": "stdout",
     "output_type": "stream",
     "text": [
      "Two million pretrain datasets has 1514 compounds in common with test data with len 2289\n",
      "Ten million pretrain datasets has 73 compounds in common with test data with len 2289\n"
     ]
    }
   ],
   "source": [
    "# Assuming test_data, twomil, and tenmil are lists\n",
    "test_data_set = set(test_data)\n",
    "twomil_set = set(twomil_pretrain_data)\n",
    "tenmil_set = set(tenmil_pretrain_data)\n",
    "\n",
    "# Find the intersection\n",
    "intersection_1 = test_data_set.intersection(twomil_set)\n",
    "intersection_2 = test_data_set.intersection(tenmil_set)\n",
    "\n",
    "# Print the intersection\n",
    "print(\"Two million pretrain datasets has\", len(intersection_1), \"compounds in common with test data with len\", len(test_data))\n",
    "print(\"Ten million pretrain datasets has\", len(intersection_2), \"compounds in common with test data with len\", len(test_data))"
   ]
  },
  {
   "cell_type": "code",
   "execution_count": 22,
   "metadata": {},
   "outputs": [],
   "source": [
    "with open(\"Data/zinc/all_inter_2m.txt\", \"a\") as f:\n",
    "        f.writelines(\"%s\\n\" % s for s in intersection_1)\n",
    "with open(\"Data/zinc/all_inter_10m.txt\", \"a\") as f:\n",
    "        f.writelines(\"%s\\n\" % s for s in intersection_2)"
   ]
  }
 ],
 "metadata": {
  "kernelspec": {
   "display_name": "kgg",
   "language": "python",
   "name": "python3"
  },
  "language_info": {
   "codemirror_mode": {
    "name": "ipython",
    "version": 3
   },
   "file_extension": ".py",
   "mimetype": "text/x-python",
   "name": "python",
   "nbconvert_exporter": "python",
   "pygments_lexer": "ipython3",
   "version": "3.1.-1"
  }
 },
 "nbformat": 4,
 "nbformat_minor": 2
}
