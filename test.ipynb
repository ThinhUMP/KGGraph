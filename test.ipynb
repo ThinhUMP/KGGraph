{
 "cells": [
  {
   "cell_type": "code",
   "execution_count": 93,
   "metadata": {},
   "outputs": [],
   "source": [
    "from rdkit import Chem\n",
    "from rdkit.Chem.Draw import IPythonConsole\n",
    "\n",
    "def show_atom_number(mol, label):\n",
    "    for atom in mol.GetAtoms():\n",
    "        atom.SetProp(label, str(atom.GetIdx()))\n",
    "    return mol"
   ]
  },
  {
   "cell_type": "code",
   "execution_count": 102,
   "metadata": {},
   "outputs": [
    {
     "data": {
      "image/png": "[encoded data removed]",
      "text/plain": [
       "<rdkit.Chem.rdchem.Mol at 0x13eac37e810>"
      ]
     },
     "execution_count": 102,
     "metadata": {},
     "output_type": "execute_result"
    }
   ],
   "source": [
    "mol = Chem.MolFromSmiles(\"COC1=C(C=C(C=C1)Cl)C(=O)NCCC2=CC=C(C=C2)S(=O)(=O)NC(=O)NC3CCCCC3\")\n",
    "show_atom_number(mol, 'atomLabel')"
   ]
  },
  {
   "cell_type": "code",
   "execution_count": 103,
   "metadata": {},
   "outputs": [],
   "source": [
    "from rdkit import Chem\n",
    "# allowable node and edge features\n",
    "allowable_features = {\n",
    "    'possible_atomic_num_list': list(range(1, 119)),  #元素周期表序号\n",
    "    'possible_formal_charge_list': [-5, -4, -3, -2, -1, 0, 1, 2, 3, 4, 5],\n",
    "    'possible_chirality_list': [\n",
    "        Chem.rdchem.ChiralType.CHI_UNSPECIFIED,\n",
    "        Chem.rdchem.ChiralType.CHI_TETRAHEDRAL_CW,\n",
    "        Chem.rdchem.ChiralType.CHI_TETRAHEDRAL_CCW,\n",
    "        Chem.rdchem.ChiralType.CHI_OTHER\n",
    "    ],    #原子的手性\n",
    "    'possible_hybridization_list': [\n",
    "        Chem.rdchem.HybridizationType.S,\n",
    "        Chem.rdchem.HybridizationType.SP, Chem.rdchem.HybridizationType.SP2,\n",
    "        Chem.rdchem.HybridizationType.SP3, Chem.rdchem.HybridizationType.SP3D,\n",
    "        Chem.rdchem.HybridizationType.SP3D2, Chem.rdchem.HybridizationType.UNSPECIFIED\n",
    "    ],\n",
    "    'possible_numH_list': [0, 1, 2, 3, 4, 5, 6, 7, 8],\n",
    "    'possible_implicit_valence_list': [0, 1, 2, 3, 4, 5, 6],\n",
    "    'possible_degree_list': [0, 1, 2, 3, 4, 5, 6, 7, 8, 9, 10],\n",
    "    'possible_bonds': [\n",
    "        Chem.rdchem.BondType.SINGLE,\n",
    "        Chem.rdchem.BondType.DOUBLE,\n",
    "        Chem.rdchem.BondType.TRIPLE,\n",
    "        Chem.rdchem.BondType.AROMATIC\n",
    "    ],\n",
    "    'possible_bond_dirs': [  # only for double bond stereo information\n",
    "        Chem.rdchem.BondDir.NONE,\n",
    "        Chem.rdchem.BondDir.ENDUPRIGHT,\n",
    "        Chem.rdchem.BondDir.ENDDOWNRIGHT\n",
    "    ],\n",
    "    'possible_bond_inring': [None, False, True]\n",
    "}"
   ]
  },
  {
   "cell_type": "code",
   "execution_count": 104,
   "metadata": {},
   "outputs": [],
   "source": [
    "from MotifGraph import get_mol\n",
    "import torch\n",
    "import numpy as np\n",
    "from MotifGraph import MotifDecomposition\n",
    "class MolGraph(object):\n",
    "\n",
    "    def __init__(self, smiles):\n",
    "        self.smiles = smiles\n",
    "        self.mol = get_mol(smiles)\n",
    "\n",
    "        '''\n",
    "        #Stereo Generation\n",
    "        mol = Chem.MolFromSmiles(smiles)\n",
    "        self.smiles3D = Chem.MolToSmiles(mol, isomericSmiles=True)\n",
    "        self.smiles2D = Chem.MolToSmiles(mol)\n",
    "        self.stereo_cands = decode_stereo(self.smiles2D)\n",
    "        '''\n",
    "        atom_features_list = []\n",
    "        for atom in self.mol.GetAtoms():\n",
    "            atom_feature = [allowable_features['possible_atomic_num_list'].index(\n",
    "                atom.GetAtomicNum())] + [allowable_features[\n",
    "                                         'possible_degree_list'].index(atom.GetDegree())]\n",
    "\n",
    "            \n",
    "            atom_features_list.append(atom_feature)\n",
    "        self.x_nosuper = torch.tensor(np.array(atom_features_list), dtype=torch.long)\n",
    "\n",
    "        # bonds\n",
    "        num_bond_features = 2  # bond type, bond direction\n",
    "        if len(self.mol.GetBonds()) > 0:  # mol has bonds\n",
    "            edges_list = []\n",
    "            edge_features_list = []\n",
    "            for bond in self.mol.GetBonds():\n",
    "                i = bond.GetBeginAtomIdx()\n",
    "                j = bond.GetEndAtomIdx()\n",
    "\n",
    "                edge_feature = [allowable_features['possible_bonds'].index(\n",
    "                 bond.GetBondType())] + [allowable_features['possible_bond_inring'].index(\n",
    "                 bond.IsInRing())]\n",
    "\n",
    "                edges_list.append((i, j))\n",
    "                edge_features_list.append(edge_feature)\n",
    "                edges_list.append((j, i))\n",
    "                edge_features_list.append(edge_feature)\n",
    "\n",
    "            # data.edge_index: Graph connectivity in COO format with shape [2, num_edges]\n",
    "            self.edge_index_nosuper = torch.tensor(np.array(edges_list).T, dtype=torch.long)\n",
    "\n",
    "            # data.edge_attr: Edge feature matrix with shape [num_edges, num_edge_features]\n",
    "            self.edge_attr_nosuper = torch.tensor(np.array(edge_features_list),\n",
    "                                 dtype=torch.long) \n",
    "        else:  \n",
    "            self.edge_index_nosuper = torch.empty((2, 0), dtype=torch.long) #edgeCOO索引，[[row索引],[col索引]]\n",
    "            self.edge_attr_nosuper = torch.empty((0, num_bond_features), dtype=torch.long)\n",
    "\n",
    "        # add super node\n",
    "        num_atoms = self.x_nosuper.size(0)\n",
    "        super_x = torch.tensor([[119, 0]]).to(self.x_nosuper.device)  \n",
    "\n",
    "        #add motif \n",
    "        motif_decompose = MotifDecomposition()\n",
    "        cliques = motif_decompose.defragment(mol = self.mol)\n",
    "        num_motif = len(cliques)\n",
    "        if num_motif > 0:\n",
    "            motif_x = torch.tensor([[120, 0]]).repeat_interleave(num_motif, dim=0).to(self.x_nosuper.device)\n",
    "            self.x = torch.cat((self.x_nosuper, motif_x, super_x), dim=0)\n",
    "\n",
    "            motif_edge_index = []\n",
    "            for k, motif in enumerate(cliques):\n",
    "                motif_edge_index = motif_edge_index + [[i, num_atoms+k] for i in motif]\n",
    "            motif_edge_index = torch.tensor(np.array(motif_edge_index).T, dtype=torch.long).to(self.edge_index_nosuper.device)\n",
    "\n",
    "            super_edge_index = [[num_atoms+i, num_atoms+num_motif] for i in range(num_motif)]\n",
    "            super_edge_index = torch.tensor(np.array(super_edge_index).T, dtype=torch.long).to(self.edge_index_nosuper.device)\n",
    "            self.edge_index = torch.cat((self.edge_index_nosuper, motif_edge_index, super_edge_index), dim=1)\n",
    "\n",
    "            motif_edge_attr = torch.zeros(motif_edge_index.size()[1], 2)\n",
    "            motif_edge_attr[:,0] = 6 #bond type for self-loop edge\n",
    "            motif_edge_attr = motif_edge_attr.to(self.edge_attr_nosuper.dtype).to(self.edge_attr_nosuper.device)\n",
    "\n",
    "            super_edge_attr = torch.zeros(num_motif, 2)\n",
    "            super_edge_attr[:,0] = 5 #bond type for self-loop edge\n",
    "            super_edge_attr = super_edge_attr.to(self.edge_attr_nosuper.dtype).to(self.edge_attr_nosuper.device)\n",
    "            self.edge_attr = torch.cat((self.edge_attr_nosuper, motif_edge_attr, super_edge_attr), dim = 0)\n",
    "\n",
    "            self.num_part = (num_atoms, num_motif, 1)\n",
    "\n",
    "        else:\n",
    "            self.x = torch.cat((self.x_nosuper, super_x), dim=0)\n",
    "\n",
    "            super_edge_index = [[i, num_atoms] for i in range(num_atoms)]\n",
    "            super_edge_index = torch.tensor(np.array(super_edge_index).T, dtype=torch.long).to(self.edge_index_nosuper.device)\n",
    "            self.edge_index = torch.cat((self.edge_index_nosuper, super_edge_index), dim=1)\n",
    "\n",
    "            super_edge_attr = torch.zeros(num_atoms, 2)\n",
    "            super_edge_attr[:,0] = 5 #bond type for self-loop edge\n",
    "            super_edge_attr = super_edge_attr.to(self.edge_attr_nosuper.dtype).to(self.edge_attr_nosuper.device)\n",
    "            self.edge_attr = torch.cat((self.edge_attr_nosuper, super_edge_attr), dim = 0)\n",
    "\n",
    "            self.num_part = (num_atoms, 0, 1)\n",
    "\n",
    "\n",
    "    def size_node(self):\n",
    "        return self.x.size()[0]\n",
    "\n",
    "    def size_edge(self):\n",
    "        return self.edge_attr.size()[0]\n",
    "\n",
    "    def size_atom(self):\n",
    "        return self.x_nosuper.size()[0]\n",
    "\n",
    "    def size_bond(self):\n",
    "        return self.edge_attr_nosuper.size()[0]"
   ]
  },
  {
   "cell_type": "code",
   "execution_count": 105,
   "metadata": {},
   "outputs": [],
   "source": [
    "smile = \"COC1=C(C=C(C=C1)Cl)C(=O)NCCC2=CC=C(C=C2)S(=O)(=O)NC(=O)NC3CCCCC3\"\n",
    "mol = Chem.MolFromSmiles(smile)"
   ]
  },
  {
   "cell_type": "code",
   "execution_count": 106,
   "metadata": {},
   "outputs": [],
   "source": [
    "mol_graph = MolGraph(smiles = smile)"
   ]
  },
  {
   "cell_type": "code",
   "execution_count": 107,
   "metadata": {},
   "outputs": [],
   "source": [
    "import torch\n",
    "from torch.utils.data import Dataset\n",
    "# from mol_tree import MolTree\n",
    "import numpy as np\n",
    "from rdkit import Chem\n",
    "from rdkit.Chem import BRICS\n",
    "from rdkit.Chem import Descriptors\n",
    "from rdkit.Chem import AllChem\n",
    "from torch_geometric.data import Batch\n",
    "from torch_geometric.data import Data\n",
    "from chemutils import get_mol, get_clique_mol\n",
    "\n",
    "\n",
    "class MoleculeDataset(Dataset):\n",
    "\n",
    "    def __init__(self, data_file):\n",
    "        with open(data_file) as f:\n",
    "            self.data = [line.strip(\"\\r\\n \").split()[0] for line in f]\n",
    "            # print('data',self.data)\n",
    "\n",
    "    def __len__(self):\n",
    "        return len(self.data)\n",
    "\n",
    "    def __getitem__(self, idx):\n",
    "        smiles = self.data[idx]\n",
    "        # print('smiles',smiles)\n",
    "        mol_graph = MolGraph(smiles)  #motif\n",
    "        # mol_tree.recover()\n",
    "        # mol_tree.assemble()\n",
    "        return mol_graph\n"
   ]
  },
  {
   "cell_type": "code",
   "execution_count": 108,
   "metadata": {},
   "outputs": [],
   "source": [
    "dataset = MoleculeDataset('./data/zinc/all.txt')"
   ]
  },
  {
   "cell_type": "code",
   "execution_count": 109,
   "metadata": {},
   "outputs": [
    {
     "data": {
      "text/plain": [
       "<__main__.MolGraph at 0x13eac372be0>"
      ]
     },
     "execution_count": 109,
     "metadata": {},
     "output_type": "execute_result"
    }
   ],
   "source": [
    "dataset.__getitem__(0)"
   ]
  },
  {
   "cell_type": "code",
   "execution_count": 111,
   "metadata": {},
   "outputs": [
    {
     "name": "stdout",
     "output_type": "stream",
     "text": [
      "Number of nodes: 44\n",
      "Number of edges: 113\n",
      "Number of atoms: 33\n",
      "Number of bonds: 70\n"
     ]
    }
   ],
   "source": [
    "# Create a MolGraph object\n",
    "mol_graph = MolGraph(smile)\n",
    "\n",
    "# Now you can access the properties of the graph\n",
    "print(\"Number of nodes:\", mol_graph.size_node())\n",
    "print(\"Number of edges:\", mol_graph.size_edge())\n",
    "print(\"Number of atoms:\", mol_graph.size_atom())\n",
    "print(\"Number of bonds:\", mol_graph.size_bond())"
   ]
  },
  {
   "cell_type": "code",
   "execution_count": 112,
   "metadata": {},
   "outputs": [],
   "source": [
    "atom_features_list = []\n",
    "for atom in mol.GetAtoms():\n",
    "    atom_feature = [allowable_features['possible_atomic_num_list'].index(\n",
    "        atom.GetAtomicNum())] + [allowable_features[\n",
    "                                    'possible_degree_list'].index(atom.GetDegree())]\n",
    "\n",
    "    \n",
    "    atom_features_list.append(atom_feature)\n",
    "x_nosuper = torch.tensor(np.array(atom_features_list), dtype=torch.long)"
   ]
  },
  {
   "cell_type": "code",
   "execution_count": 113,
   "metadata": {},
   "outputs": [],
   "source": [
    "# bonds\n",
    "num_bond_features = 2  # bond type, bond direction\n",
    "if len(mol.GetBonds()) > 0:  # mol has bonds\n",
    "    edges_list = []\n",
    "    edge_features_list = []\n",
    "    for bond in mol.GetBonds():\n",
    "        i = bond.GetBeginAtomIdx()\n",
    "        j = bond.GetEndAtomIdx()\n",
    "\n",
    "        edge_feature = [allowable_features['possible_bonds'].index(\n",
    "            bond.GetBondType())] + [allowable_features['possible_bond_inring'].index(\n",
    "            bond.IsInRing())]\n",
    "\n",
    "        edges_list.append((i, j))\n",
    "        edge_features_list.append(edge_feature)\n",
    "        edges_list.append((j, i))\n",
    "        edge_features_list.append(edge_feature)\n",
    "\n",
    "    # data.edge_index: Graph connectivity in COO format with shape [2, num_edges]\n",
    "    edge_index_nosuper = torch.tensor(np.array(edges_list).T, dtype=torch.long)\n",
    "\n",
    "    # data.edge_attr: Edge feature matrix with shape [num_edges, num_edge_features]\n",
    "    edge_attr_nosuper = torch.tensor(np.array(edge_features_list),\n",
    "                            dtype=torch.long) \n",
    "else:  \n",
    "    edge_index_nosuper = torch.empty((2, 0), dtype=torch.long) # edge COO index, [[row index], [column index]]\n",
    "    edge_attr_nosuper = torch.empty((0, num_bond_features), dtype=torch.long)"
   ]
  },
  {
   "cell_type": "code",
   "execution_count": 114,
   "metadata": {},
   "outputs": [],
   "source": [
    "num_atoms = x_nosuper.size(0)\n",
    "super_x = torch.tensor([[119, 0]]).to(x_nosuper.device)  "
   ]
  },
  {
   "cell_type": "code",
   "execution_count": 147,
   "metadata": {},
   "outputs": [
    {
     "data": {
      "text/plain": [
       "[[0, 1],\n",
       " [2, 3, 4, 5, 6, 7, 8],\n",
       " [9, 10],\n",
       " [12, 13],\n",
       " [14, 15, 16, 17, 18, 19, 20, 21, 22],\n",
       " [24, 25],\n",
       " [32, 27, 28, 29, 30, 31],\n",
       " [11],\n",
       " [23],\n",
       " [26]]"
      ]
     },
     "execution_count": 147,
     "metadata": {},
     "output_type": "execute_result"
    }
   ],
   "source": [
    "cliques"
   ]
  },
  {
   "cell_type": "code",
   "execution_count": 148,
   "metadata": {},
   "outputs": [],
   "source": [
    "#add motif \n",
    "motif_decompose = MotifDecomposition()\n",
    "cliques = motif_decompose.defragment(mol = mol)\n",
    "num_motif = len(cliques)\n",
    "if num_motif > 0:\n",
    "    motif_x = torch.tensor([[120, 0]]).repeat_interleave(num_motif, dim=0).to(x_nosuper.device)\n",
    "    x = torch.cat((x_nosuper, motif_x, super_x), dim=0)\n",
    "\n",
    "    motif_edge_index = []\n",
    "    for k, motif in enumerate(cliques):\n",
    "        motif_edge_index = motif_edge_index + [[i, num_atoms+k] for i in motif]\n",
    "    motif_edge_index = torch.tensor(np.array(motif_edge_index).T, dtype=torch.long).to(edge_index_nosuper.device)\n",
    "\n",
    "    super_edge_index = [[num_atoms+i, num_atoms+num_motif] for i in range(num_motif)]\n",
    "    super_edge_index = torch.tensor(np.array(super_edge_index).T, dtype=torch.long).to(edge_index_nosuper.device)\n",
    "    edge_index = torch.cat((edge_index_nosuper, motif_edge_index, super_edge_index), dim=1)\n",
    "\n",
    "    motif_edge_attr = torch.zeros(motif_edge_index.size()[1], 2)\n",
    "    motif_edge_attr[:,0] = 6 #bond type for self-loop edge\n",
    "    motif_edge_attr = motif_edge_attr.to(edge_attr_nosuper.dtype).to(edge_attr_nosuper.device)\n",
    "\n",
    "    super_edge_attr = torch.zeros(num_motif, 2)\n",
    "    super_edge_attr[:,0] = 5 #bond type for self-loop edge\n",
    "    super_edge_attr = super_edge_attr.to(edge_attr_nosuper.dtype).to(edge_attr_nosuper.device)\n",
    "    edge_attr = torch.cat((edge_attr_nosuper, motif_edge_attr, super_edge_attr), dim = 0)\n",
    "\n",
    "    num_part = (num_atoms, num_motif, 1)\n",
    "\n",
    "else:\n",
    "    x = torch.cat((x_nosuper, super_x), dim=0)\n",
    "\n",
    "    super_edge_index = [[i, num_atoms] for i in range(num_atoms)]\n",
    "    super_edge_index = torch.tensor(np.array(super_edge_index).T, dtype=torch.long).to(edge_index_nosuper.device)\n",
    "    edge_index = torch.cat((edge_index_nosuper, super_edge_index), dim=1)\n",
    "\n",
    "    super_edge_attr = torch.zeros(num_atoms, 2)\n",
    "    super_edge_attr[:,0] = 5 #bond type for self-loop edge\n",
    "    super_edge_attr = super_edge_attr.to(edge_attr_nosuper.dtype).to(edge_attr_nosuper.device)\n",
    "    edge_attr = torch.cat((edge_attr_nosuper, super_edge_attr), dim = 0)\n",
    "\n",
    "    num_part = (num_atoms, 0, 1)"
   ]
  },
  {
   "cell_type": "code",
   "execution_count": 149,
   "metadata": {},
   "outputs": [
    {
     "data": {
      "text/plain": [
       "tensor([[ 0,  1,  2,  3,  4,  5,  6,  7,  8,  9, 10, 12, 13, 14, 15, 16, 17, 18,\n",
       "         19, 20, 21, 22, 24, 25, 32, 27, 28, 29, 30, 31, 11, 23, 26],\n",
       "        [33, 33, 34, 34, 34, 34, 34, 34, 34, 35, 35, 36, 36, 37, 37, 37, 37, 37,\n",
       "         37, 37, 37, 37, 38, 38, 39, 39, 39, 39, 39, 39, 40, 41, 42]])"
      ]
     },
     "execution_count": 149,
     "metadata": {},
     "output_type": "execute_result"
    }
   ],
   "source": [
    "motif_edge_index"
   ]
  },
  {
   "cell_type": "code",
   "execution_count": 140,
   "metadata": {},
   "outputs": [
    {
     "name": "stdout",
     "output_type": "stream",
     "text": [
      "0 [0, 1]\n",
      "-----\n",
      "0 33\n",
      "1 33\n",
      "----\n",
      "1 [2, 3, 4, 5, 6, 7, 8]\n",
      "-----\n",
      "2 34\n",
      "3 34\n",
      "4 34\n",
      "5 34\n",
      "6 34\n",
      "7 34\n",
      "8 34\n",
      "----\n",
      "2 [9, 10]\n",
      "-----\n",
      "9 35\n",
      "10 35\n",
      "----\n",
      "3 [12, 13]\n",
      "-----\n",
      "12 36\n",
      "13 36\n",
      "----\n",
      "4 [14, 15, 16, 17, 18, 19, 20, 21, 22]\n",
      "-----\n",
      "14 37\n",
      "15 37\n",
      "16 37\n",
      "17 37\n",
      "18 37\n",
      "19 37\n",
      "20 37\n",
      "21 37\n",
      "22 37\n",
      "----\n",
      "5 [24, 25]\n",
      "-----\n",
      "24 38\n",
      "25 38\n",
      "----\n",
      "6 [32, 27, 28, 29, 30, 31]\n",
      "-----\n",
      "32 39\n",
      "27 39\n",
      "28 39\n",
      "29 39\n",
      "30 39\n",
      "31 39\n",
      "----\n",
      "7 [11]\n",
      "-----\n",
      "11 40\n",
      "----\n",
      "8 [23]\n",
      "-----\n",
      "23 41\n",
      "----\n",
      "9 [26]\n",
      "-----\n",
      "26 42\n",
      "----\n"
     ]
    }
   ],
   "source": [
    "motif_edge_index = []\n",
    "for k, motif in enumerate(cliques):\n",
    "    print(k , motif)\n",
    "    print('-----')\n",
    "    motif_edge_index = motif_edge_index + [[i, num_atoms+k] for i in motif]\n",
    "    for i in motif:\n",
    "        print(i, num_atoms+k)\n",
    "    print('----')"
   ]
  },
  {
   "cell_type": "code",
   "execution_count": 120,
   "metadata": {},
   "outputs": [
    {
     "data": {
      "image/png": "[encoded data removed]",
      "text/plain": [
       "<rdkit.Chem.rdchem.Mol at 0x13eac37edb0>"
      ]
     },
     "execution_count": 120,
     "metadata": {},
     "output_type": "execute_result"
    }
   ],
   "source": [
    "mol = Chem.MolFromSmiles(\"COC1=C(C=C(C=C1)Cl)C(=O)NCCC2=CC=C(C=C2)S(=O)(=O)NC(=O)NC3CCCCC3\")\n",
    "show_atom_number(mol, 'atomLabel')"
   ]
  }
 ],
 "metadata": {
  "kernelspec": {
   "display_name": "MotifGraph",
   "language": "python",
   "name": "python3"
  },
  "language_info": {
   "codemirror_mode": {
    "name": "ipython",
    "version": 3
   },
   "file_extension": ".py",
   "mimetype": "text/x-python",
   "name": "python",
   "nbconvert_exporter": "python",
   "pygments_lexer": "ipython3",
   "version": "3.9.0"
  }
 },
 "nbformat": 4,
 "nbformat_minor": 2
}
